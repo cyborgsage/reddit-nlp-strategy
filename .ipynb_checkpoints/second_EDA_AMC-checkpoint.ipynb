{
 "cells": [
  {
   "cell_type": "code",
   "execution_count": 1,
   "metadata": {
    "scrolled": true
   },
   "outputs": [
    {
     "name": "stderr",
     "output_type": "stream",
     "text": [
      "<ipython-input-1-1c1c12436d94>:26: FutureWarning: Passing a negative integer is deprecated in version 1.0 and will not be supported in future version. Instead, use None to not limit the column width.\n",
      "  pd.set_option('display.max_colwidth', -1)\n"
     ]
    }
   ],
   "source": [
    "import pandas as pd\n",
    "import numpy as np\n",
    "import nltk\n",
    "from nltk.sentiment.vader import SentimentIntensityAnalyzer\n",
    "from pmaw import PushshiftAPI\n",
    "import matplotlib.pyplot as plt\n",
    "import math\n",
    "from datetime import datetime\n",
    "import datetime as dt\n",
    "from nltk.tokenize import RegexpTokenizer, TweetTokenizer, word_tokenize\n",
    "from nltk.corpus import stopwords\n",
    "from nltk.stem import PorterStemmer, SnowballStemmer\n",
    "from sklearn.feature_extraction.text import TfidfVectorizer, CountVectorizer\n",
    "from sklearn.model_selection import train_test_split\n",
    "from sklearn.tree import DecisionTreeClassifier\n",
    "from sklearn.ensemble import RandomForestClassifier\n",
    "from sklearn.naive_bayes import MultinomialNB\n",
    "from sklearn.model_selection import cross_val_score\n",
    "from sklearn.metrics import precision_score, recall_score, accuracy_score, f1_score\n",
    "from sklearn.metrics import plot_confusion_matrix\n",
    "import re\n",
    "import string\n",
    "import seaborn as sns\n",
    "from wordcloud import WordCloud\n",
    "from textblob import TextBlob\n",
    "pd.set_option('display.max_colwidth', -1)"
   ]
  },
  {
   "cell_type": "code",
   "execution_count": 2,
   "metadata": {},
   "outputs": [],
   "source": [
    "amc = pd.read_csv('data/cleaned_preEDA_AMC.csv', low_memory=False)"
   ]
  },
  {
   "cell_type": "code",
   "execution_count": 3,
   "metadata": {
    "scrolled": false
   },
   "outputs": [],
   "source": [
    "from preprocessing_tuner import new_words, new_stopwords"
   ]
  },
  {
   "cell_type": "code",
   "execution_count": 4,
   "metadata": {},
   "outputs": [],
   "source": [
    "stopwords_list = stopwords.words('english')\n",
    "stopwords_list.append(new_stopwords)"
   ]
  },
  {
   "cell_type": "code",
   "execution_count": 5,
   "metadata": {},
   "outputs": [],
   "source": [
    "def new_cleaner(comment):\n",
    "    punctuation = set(string.punctuation)\n",
    "    x = comment\n",
    "    x = re.sub(r'@[\\w]*', '', x) #remove @ mentions\n",
    "    x = re.sub(r'((https:|http:)[^\\s]+|(www\\.)[^\\s]+)', ' ', x) #remove URLs and links\n",
    "    x = ''.join(ch for ch in x if ch not in punctuation) #remove punctuation\n",
    "    x = x.replace(\"[^a-zA-z]#\", \" \") #remove special chars\n",
    "    x = [word.lower() for word in x.split() if word.lower() not in stopwords_list]\n",
    "    return ' '.join(x)"
   ]
  },
  {
   "cell_type": "code",
   "execution_count": 6,
   "metadata": {},
   "outputs": [],
   "source": [
    "amc['cleaned_body'] = amc['body'].map(lambda x: new_cleaner(x))"
   ]
  },
  {
   "cell_type": "code",
   "execution_count": 7,
   "metadata": {},
   "outputs": [],
   "source": [
    "def find_sentiment(post):\n",
    "    new_vader = SentimentIntensityAnalyzer()\n",
    "    new_vader.lexicon.update(new_words)\n",
    "    if new_vader.polarity_scores(post)[\"compound\"] > 0:\n",
    "        return \"Positive\"\n",
    "    elif new_vader.polarity_scores(post)[\"compound\"] < 0:\n",
    "        return \"Negative\"\n",
    "    else:\n",
    "        return \"Neutral\" "
   ]
  },
  {
   "cell_type": "code",
   "execution_count": null,
   "metadata": {},
   "outputs": [],
   "source": [
    "amc['new_sentiment'] = amc['cleaned_body'].apply(lambda x: find_sentiment(x))"
   ]
  },
  {
   "cell_type": "code",
   "execution_count": null,
   "metadata": {},
   "outputs": [],
   "source": [
    "counts = amc['new_sentiment'].value_counts()\n",
    "fig, ax = plt.subplots(figsize=(8, 8))\n",
    "barlist = plt.bar(['Positive','Neutral','Negative'],counts)\n",
    "barlist[0].set_color('green')\n",
    "barlist[1].set_color('grey')\n",
    "barlist[2].set_color('navy')\n",
    "ax.set_ylabel('Count', size=24)\n",
    "plt.title(\"VADER Comment Sentiment\", fontsize=32, fontweight='bold')\n",
    "plt.tight_layout()\n",
    "plt.tick_params(labelsize=20)\n",
    "plt.xticks(rotation=30)\n",
    "plt.show()"
   ]
  },
  {
   "cell_type": "code",
   "execution_count": null,
   "metadata": {},
   "outputs": [],
   "source": [
    "amc['new_sentiment'].value_counts()"
   ]
  },
  {
   "cell_type": "code",
   "execution_count": null,
   "metadata": {},
   "outputs": [],
   "source": [
    "def blob_sent(post):\n",
    "    blob = TextBlob(post)\n",
    "    if blob.sentiment.polarity > 0:\n",
    "        return \"Positive\"\n",
    "    elif blob.sentiment.polarity < 0:\n",
    "        return \"Negative\"\n",
    "    else:\n",
    "        return \"Neutral\""
   ]
  },
  {
   "cell_type": "code",
   "execution_count": null,
   "metadata": {},
   "outputs": [],
   "source": [
    "amc['new_blob'] = amc['cleaned_body'].apply(lambda x: blob_sent(x))"
   ]
  },
  {
   "cell_type": "code",
   "execution_count": null,
   "metadata": {},
   "outputs": [],
   "source": [
    "counts = amc['new_blob'].value_counts()\n",
    "fig, ax = plt.subplots(figsize=(8, 8))\n",
    "barlist = plt.bar(['Neutral','Positive','Negative'],counts)\n",
    "barlist[0].set_color('grey')\n",
    "barlist[1].set_color('green')\n",
    "barlist[2].set_color('navy')\n",
    "ax.set_ylabel('Count', size=24)\n",
    "plt.title(\"TextBlob Comment Sentiment\", fontsize=32, fontweight='bold')\n",
    "plt.tight_layout()\n",
    "plt.tick_params(labelsize=20)\n",
    "plt.xticks(rotation=30)\n",
    "plt.show()"
   ]
  },
  {
   "cell_type": "code",
   "execution_count": null,
   "metadata": {},
   "outputs": [],
   "source": [
    "amc['new_blob'].value_counts()"
   ]
  },
  {
   "cell_type": "code",
   "execution_count": null,
   "metadata": {},
   "outputs": [],
   "source": []
  }
 ],
 "metadata": {
  "kernelspec": {
   "display_name": "Python (learn-env)",
   "language": "python",
   "name": "learn-env"
  },
  "language_info": {
   "codemirror_mode": {
    "name": "ipython",
    "version": 3
   },
   "file_extension": ".py",
   "mimetype": "text/x-python",
   "name": "python",
   "nbconvert_exporter": "python",
   "pygments_lexer": "ipython3",
   "version": "3.8.5"
  }
 },
 "nbformat": 4,
 "nbformat_minor": 4
}
