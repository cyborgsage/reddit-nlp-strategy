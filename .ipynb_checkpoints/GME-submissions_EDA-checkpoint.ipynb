{
 "cells": [
  {
   "cell_type": "code",
   "execution_count": 1,
   "metadata": {},
   "outputs": [
    {
     "name": "stderr",
     "output_type": "stream",
     "text": [
      "<ipython-input-1-26ae20a3a9ba>:24: FutureWarning: Passing a negative integer is deprecated in version 1.0 and will not be supported in future version. Instead, use None to not limit the column width.\n",
      "  pd.set_option('display.max_colwidth', -1)\n"
     ]
    }
   ],
   "source": [
    "import pandas as pd\n",
    "import numpy as np\n",
    "import matplotlib.pyplot as plt\n",
    "import math\n",
    "from datetime import datetime\n",
    "import datetime as dt\n",
    "import nltk\n",
    "from nltk.sentiment.vader import SentimentIntensityAnalyzer\n",
    "from nltk.tokenize import RegexpTokenizer, TweetTokenizer, word_tokenize\n",
    "from nltk.corpus import stopwords\n",
    "from nltk.stem import PorterStemmer, SnowballStemmer\n",
    "from sklearn.feature_extraction.text import TfidfVectorizer, CountVectorizer\n",
    "from sklearn.model_selection import train_test_split\n",
    "from sklearn.tree import DecisionTreeClassifier\n",
    "from sklearn.ensemble import RandomForestClassifier\n",
    "from sklearn.naive_bayes import MultinomialNB\n",
    "from sklearn.model_selection import cross_val_score\n",
    "from sklearn.metrics import precision_score, recall_score, accuracy_score, f1_score\n",
    "from sklearn.metrics import plot_confusion_matrix\n",
    "import re\n",
    "import string\n",
    "import seaborn as sns\n",
    "from wordcloud import WordCloud\n",
    "pd.set_option('display.max_colwidth', -1)"
   ]
  },
  {
   "cell_type": "code",
   "execution_count": 2,
   "metadata": {},
   "outputs": [],
   "source": [
    "gme_subs = pd.read_csv('data/gme_submissions.csv', low_memory=False)"
   ]
  },
  {
   "cell_type": "code",
   "execution_count": 3,
   "metadata": {},
   "outputs": [
    {
     "name": "stdout",
     "output_type": "stream",
     "text": [
      "<class 'pandas.core.frame.DataFrame'>\n",
      "RangeIndex: 35000 entries, 0 to 34999\n",
      "Data columns (total 85 columns):\n",
      " #   Column                         Non-Null Count  Dtype  \n",
      "---  ------                         --------------  -----  \n",
      " 0   all_awardings                  35000 non-null  object \n",
      " 1   allow_live_comments            35000 non-null  bool   \n",
      " 2   author                         35000 non-null  object \n",
      " 3   author_flair_css_class         10 non-null     object \n",
      " 4   author_flair_richtext          33734 non-null  object \n",
      " 5   author_flair_text              1834 non-null   object \n",
      " 6   author_flair_type              33734 non-null  object \n",
      " 7   author_fullname                33734 non-null  object \n",
      " 8   author_patreon_flair           33734 non-null  object \n",
      " 9   author_premium                 33734 non-null  object \n",
      " 10  awarders                       35000 non-null  object \n",
      " 11  can_mod_post                   35000 non-null  bool   \n",
      " 12  contest_mode                   35000 non-null  bool   \n",
      " 13  created_utc                    35000 non-null  int64  \n",
      " 14  domain                         35000 non-null  object \n",
      " 15  full_link                      35000 non-null  object \n",
      " 16  gildings                       35000 non-null  object \n",
      " 17  id                             35000 non-null  object \n",
      " 18  is_crosspostable               35000 non-null  bool   \n",
      " 19  is_meta                        35000 non-null  bool   \n",
      " 20  is_original_content            35000 non-null  bool   \n",
      " 21  is_reddit_media_domain         35000 non-null  bool   \n",
      " 22  is_robot_indexable             35000 non-null  bool   \n",
      " 23  is_self                        35000 non-null  bool   \n",
      " 24  is_video                       35000 non-null  bool   \n",
      " 25  link_flair_background_color    34476 non-null  object \n",
      " 26  link_flair_css_class           34476 non-null  object \n",
      " 27  link_flair_richtext            35000 non-null  object \n",
      " 28  link_flair_template_id         34476 non-null  object \n",
      " 29  link_flair_text                34476 non-null  object \n",
      " 30  link_flair_text_color          35000 non-null  object \n",
      " 31  link_flair_type                35000 non-null  object \n",
      " 32  locked                         35000 non-null  bool   \n",
      " 33  media_only                     35000 non-null  bool   \n",
      " 34  no_follow                      35000 non-null  bool   \n",
      " 35  num_comments                   35000 non-null  int64  \n",
      " 36  num_crossposts                 35000 non-null  int64  \n",
      " 37  over_18                        35000 non-null  bool   \n",
      " 38  parent_whitelist_status        35000 non-null  object \n",
      " 39  permalink                      35000 non-null  object \n",
      " 40  pinned                         35000 non-null  bool   \n",
      " 41  post_hint                      12724 non-null  object \n",
      " 42  preview                        12724 non-null  object \n",
      " 43  pwls                           35000 non-null  int64  \n",
      " 44  retrieved_on                   35000 non-null  int64  \n",
      " 45  score                          35000 non-null  int64  \n",
      " 46  selftext                       20391 non-null  object \n",
      " 47  send_replies                   35000 non-null  bool   \n",
      " 48  spoiler                        35000 non-null  bool   \n",
      " 49  stickied                       35000 non-null  bool   \n",
      " 50  subreddit                      35000 non-null  object \n",
      " 51  subreddit_id                   35000 non-null  object \n",
      " 52  subreddit_subscribers          35000 non-null  int64  \n",
      " 53  subreddit_type                 35000 non-null  object \n",
      " 54  suggested_sort                 35000 non-null  object \n",
      " 55  thumbnail                      35000 non-null  object \n",
      " 56  thumbnail_height               15459 non-null  float64\n",
      " 57  thumbnail_width                15459 non-null  float64\n",
      " 58  title                          35000 non-null  object \n",
      " 59  total_awards_received          35000 non-null  int64  \n",
      " 60  treatment_tags                 35000 non-null  object \n",
      " 61  upvote_ratio                   35000 non-null  float64\n",
      " 62  url                            35000 non-null  object \n",
      " 63  url_overridden_by_dest         14304 non-null  object \n",
      " 64  whitelist_status               35000 non-null  object \n",
      " 65  wls                            35000 non-null  int64  \n",
      " 66  media                          1034 non-null   object \n",
      " 67  media_embed                    645 non-null    object \n",
      " 68  removed_by_category            16880 non-null  object \n",
      " 69  secure_media                   1034 non-null   object \n",
      " 70  secure_media_embed             645 non-null    object \n",
      " 71  media_metadata                 2065 non-null   object \n",
      " 72  gallery_data                   672 non-null    object \n",
      " 73  is_gallery                     1217 non-null   object \n",
      " 74  author_flair_background_color  254 non-null    object \n",
      " 75  author_flair_text_color        3101 non-null   object \n",
      " 76  author_cakeday                 90 non-null     object \n",
      " 77  banned_by                      416 non-null    object \n",
      " 78  edited                         336 non-null    float64\n",
      " 79  distinguished                  5 non-null      object \n",
      " 80  gilded                         91 non-null     float64\n",
      " 81  is_created_from_ads_ui         8090 non-null   object \n",
      " 82  author_flair_template_id       254 non-null    object \n",
      " 83  author_is_blocked              3704 non-null   object \n",
      " 84  collections                    6 non-null      object \n",
      "dtypes: bool(18), float64(5), int64(9), object(53)\n",
      "memory usage: 18.5+ MB\n"
     ]
    }
   ],
   "source": [
    "gme_subs.info()"
   ]
  },
  {
   "cell_type": "code",
   "execution_count": null,
   "metadata": {},
   "outputs": [],
   "source": [
    "subs_relevant_cols=['author', 'created_utc', 'full_link', 'id', 'link_flair_text', 'num_comments',\n",
    "       'removed_by_category', 'score', 'selftext','thumbnail', 'title', 'total_awards_received',\n",
    "       'upvote_ratio', 'url']"
   ]
  },
  {
   "cell_type": "code",
   "execution_count": 4,
   "metadata": {},
   "outputs": [
    {
     "data": {
      "text/plain": [
       "[removed]                                                                                                                                                                                                                                                                                                                                                                                                                                                                                                                                                                                                                                                                                                                                                                                                                                                                                                                                                                                                                                                                                                                                                                                                                                                                                                                                                                                                                                                                                                                                                                                                                                                                                                                                                                                                                                                                                                                                                                                                                                                                                                                                                                                                                                                                                                                                                                                                           8197\n",
       "[deleted]                                                                                                                                                                                                                                                                                                                                                                                                                                                                                                                                                                                                                                                                                                                                                                                                                                                                                                                                                                                                                                                                                                                                                                                                                                                                                                                                                                                                                                                                                                                                                                                                                                                                                                                                                                                                                                                                                                                                                                                                                                                                                                                                                                                                                                                                                                                                                                                                           849 \n",
       "\\nYour daily hype thread. Please keep the shitposting to a maximum.\\n\\n^Navigate ^WSB |^We ^recommend ^best ^daily ^DD\\n:--|:--                                 \\n**DD** | [All](https://reddit.com/r/wallstreetbets/search?sort=new&amp;restrict_sr=on&amp;q=flair%3ADD) / [**Best Daily**](https://www.reddit.com/r/wallstreetbets/search?sort=top&amp;q=flair%3ADD&amp;restrict_sr=on&amp;t=day) / [Best Weekly](https://www.reddit.com/r/wallstreetbets/search?sort=top&amp;q=flair%3ADD&amp;restrict_sr=on&amp;t=week)\\n**Discussion** | [All](https://reddit.com/r/wallstreetbets/search?sort=new&amp;restrict_sr=on&amp;q=flair%3ADiscussion) / [**Best Daily**](https://www.reddit.com/r/wallstreetbets/search?sort=top&amp;q=flair%3ADiscussion&amp;restrict_sr=on&amp;t=day) / [Best Weekly](https://www.reddit.com/r/wallstreetbets/search?sort=top&amp;q=flair%3ADiscussion&amp;restrict_sr=on&amp;t=week)\\n**YOLO** | [All](https://reddit.com/r/wallstreetbets/search?sort=new&amp;restrict_sr=on&amp;q=flair%3AYOLO) / [**Best Daily**](https://www.reddit.com/r/wallstreetbets/search?sort=top&amp;q=flair%3AYOLO&amp;restrict_sr=on&amp;t=day) / [Best Weekly](https://www.reddit.com/r/wallstreetbets/search?sort=top&amp;q=flair%3AYOLO&amp;restrict_sr=on&amp;t=week)\\n**Gain** | [All](https://reddit.com/r/wallstreetbets/search?sort=new&amp;restrict_sr=on&amp;q=flair%3AGain) / [**Best Daily**](https://www.reddit.com/r/wallstreetbets/search?sort=top&amp;q=flair%3AGain&amp;restrict_sr=on&amp;t=day) / [Best Weekly](https://www.reddit.com/r/wallstreetbets/search?sort=top&amp;q=flair%3AGain&amp;restrict_sr=on&amp;t=week)\\n**Loss** | [All](https://reddit.com/r/wallstreetbets/search?sort=new&amp;restrict_sr=on&amp;q=flair%3ALoss) / [**Best Daily**](https://www.reddit.com/r/wallstreetbets/search?sort=top&amp;q=flair%3ALoss&amp;restrict_sr=on&amp;t=day) / [Best Weekly](https://www.reddit.com/r/wallstreetbets/search?sort=top&amp;q=flair%3ALoss&amp;restrict_sr=on&amp;t=week)                                                                                                                                                                                                                                                                                                                                                                                     25  \n",
       "\\nYour daily hype and or containment thread. Please keep the shitposting to a maximum. Direct all complaints to Mr Wong.\\n\\n^Navigate ^WSB |^We ^recommend ^best ^daily ^DD\\n:--|:--                                 \\n**DD** | [All](https://reddit.com/r/wallstreetbets/search?sort=new&amp;restrict_sr=on&amp;q=flair%3ADD) / [**Best Daily**](https://www.reddit.com/r/wallstreetbets/search?sort=top&amp;q=flair%3ADD&amp;restrict_sr=on&amp;t=day) / [Best Weekly](https://www.reddit.com/r/wallstreetbets/search?sort=top&amp;q=flair%3ADD&amp;restrict_sr=on&amp;t=week)\\n**Discussion** | [All](https://reddit.com/r/wallstreetbets/search?sort=new&amp;restrict_sr=on&amp;q=flair%3ADiscussion) / [**Best Daily**](https://www.reddit.com/r/wallstreetbets/search?sort=top&amp;q=flair%3ADiscussion&amp;restrict_sr=on&amp;t=day) / [Best Weekly](https://www.reddit.com/r/wallstreetbets/search?sort=top&amp;q=flair%3ADiscussion&amp;restrict_sr=on&amp;t=week)\\n**YOLO** | [All](https://reddit.com/r/wallstreetbets/search?sort=new&amp;restrict_sr=on&amp;q=flair%3AYOLO) / [**Best Daily**](https://www.reddit.com/r/wallstreetbets/search?sort=top&amp;q=flair%3AYOLO&amp;restrict_sr=on&amp;t=day) / [Best Weekly](https://www.reddit.com/r/wallstreetbets/search?sort=top&amp;q=flair%3AYOLO&amp;restrict_sr=on&amp;t=week)\\n**Gain** | [All](https://reddit.com/r/wallstreetbets/search?sort=new&amp;restrict_sr=on&amp;q=flair%3AGain) / [**Best Daily**](https://www.reddit.com/r/wallstreetbets/search?sort=top&amp;q=flair%3AGain&amp;restrict_sr=on&amp;t=day) / [Best Weekly](https://www.reddit.com/r/wallstreetbets/search?sort=top&amp;q=flair%3AGain&amp;restrict_sr=on&amp;t=week)\\n**Loss** | [All](https://reddit.com/r/wallstreetbets/search?sort=new&amp;restrict_sr=on&amp;q=flair%3ALoss) / [**Best Daily**](https://www.reddit.com/r/wallstreetbets/search?sort=top&amp;q=flair%3ALoss&amp;restrict_sr=on&amp;t=day) / [Best Weekly](https://www.reddit.com/r/wallstreetbets/search?sort=top&amp;q=flair%3ALoss&amp;restrict_sr=on&amp;t=week)                                                                                                                                                                                                                                                                                                                                18  \n",
       "This thread will be automatically stickied weekdays at 8:30am, and unstickied at 9:15am.\\n\\nMegathreads are now posted automatically based on a few factors, including:\\n\\n* Mentions by comment count, weighted by comment novelty and score\\n* Accounts of users mentioning, weighted by age, posting history, and previous mod actions\\n* Stock volatility, volume, and market cap\\n\\nThis isn't an exhaustive list, but to prevent this from being gamed, we cannot share the exact weightings or specifics.\\n\\nThese megathreads exist to consolidate conversation about interesting topics and make things easily accessible and enjoyable for all. \\n\\n**Please do your part in making these threads decent. Don't troll. Don't spam. Don't spread divisiveness (calling others shills / bots).**                                                                                                                                                                                                                                                                                                                                                                                                                                                                                                                                                                                                                                                                                                                                                                                                                                                                                                                                                                                                                                                                                                                                                                                                                                                                                                                                                                                                                                                                                                                                                                                                            7   \n",
       "                                                                                                                                                                                                                                                                                                                                                                                                                                                                                                                                                                                                                                                                                                                                                                                                                                                                                                                                                                                                                                                                                                                                                                                                                                                                                                                                                                                                                                                                                                                                                                                                                                                                                                                                                                                                                                                                                                                                                                                                                                                                                                                                                                                                                                                                                                                                                                                                                   ..   \n",
       "It's amazing how this community and social.media in general has pushed things like Gamestop and AMC but I'm definitely puzzled how investors on here latch on to these companies after they make their massive runs. No matter what the technicals say, no matter how much they ascended they just can't let go and move on to another candidate that has more potential. I'm a seasoned investor and I highly suggest you look at FUBO. Technically it has formed a base and looks like it wants to run higher and from what I gather 20% of the float is shorted. Beyond that the company is growing faster than any other streaming service on the planet and that's no pumping. It has so many catysts fundamentally with the subscriber growth, ad growth and sports book potential which should be rolled out soon. Here is a fact.....they are the only sports centric streaming service and they will be the only ones that will both be the streaming service and sports book. We all know that betting is exploding as state by state surrenders and allows gambling and in the end bettors will want to watch the game and bet on that game on that streaming service. That is the ideal setup and neither Fanduel or Draftkings can do that. They also will own all of the analytics and user data of their subscribers to be able to tailor their marketing. The other betting sites which are doing partnerships with content providers won't own that data and the content providers won't share that data with the betting sites. They are very reluctant to share that data so that's another competitive advantage for Fubo. I think Fubo could offer reduced fees or free fees for bettors who do so much wagering and what bettor wouldn't want to have a free service to do their betting on? I can tell you that the betting sites that are forced to sign with content providers will definitely be paying a fee for that partnership or they will be forced to share their betting profits with that provider. Fubo will in essence have that vertical.integration that others just won't have. It's such a juicy company long term and at the same time has that squeeze potential. Have no.idea why GME or AMC lovers continue to be long there when they already have had runs that far outweigh what they are worth. Move on to something else folks......FUBO is a great candidate.    1   \n",
       "Just a reminder that there hasn't been a real catalyst in a while and next week is full of them. Catalysts drive volume which drives price.\\n\\nLast 2 big news catalysts?\\n\\n**3/8** - [Gamestop governance update](https://news.gamestop.com/news-releases/news-release-details/gamestop-provides-corporate-governance-update) announcing a new board for the e-commerce transition led by Ryan Cohen. This was announced pre-market.\\n\\n3 day action around that announcement:\\n\\n03/09/2021 Open: $217.71  Close: $246.90  Vol: 39,099,330\\n\\n03/08/2021 Open: $154.89  Close: $194.50  Vol: **63,565,620**\\n\\n03/05/2021 Open: $128.17  Close: $137.74  Vol: 30,733,670\\n\\n\\n\\n**2/23** - [Gamestop announces resignation of CFO](https://news.gamestop.com/news-releases/news-release-details/gamestop-announces-resignation-cfo-and-succession-plan-support) and succession plan. This was announced post-market.\\n\\n3 day action around that announcement:\\n\\n02/24/2021 Open: $44.70  Close: $91.71  Vol: **83,111,740**\\n\\n02/23/2021 Open: $44.97 Close: $44.97   Vol: 7,565,215\\n\\n02/22/2021 Open: $46.69 Close: $46.00   Vol: 19,476,020\\n\\n\\n\\nNext confirmed Gamestop announcement: \\n\\n**3/23** [Fourth Quarter and Fiscal Year 2020 Earnings](https://news.gamestop.com/news-releases/news-release-details/gamestop-announces-fourth-quarter-and-fiscal-year-2020-earnings)\\n\\nFollowing that announcement we can expect to hear about a replacement for their CFO, the *possibility* that Ryan Cohen may be taking a new role within Gamestop, and with the end of the pre-earnings blackout period Gamestop will be free to announce any transition initiatives moving forward. Forget this week, next week is where the real action will be.                                                                                                                                                                                                                                                                                                                                                                                                                                                                                                                                                                                                                                                    1   \n",
       "I may not have much in Dog &amp; GME but whatever I make I'm using to pay off debt then all the rest to children's hospitals 💎👏🏽. Together we apes strong🦍🦾                                                                                                                                                                                                                                                                                                                                                                                                                                                                                                                                                                                                                                                                                                                                                                                                                                                                                                                                                                                                                                                                                                                                                                                                                                                                                                                                                                                                                                                                                                                                                                                                                                                                                                                                                                                                                                                                                                                                                                                                                                                                                                                                                                                                                                                         1   \n",
       "Would you be willing to sleep if you had millions of $ shorted on a company that is about to beat the current record for a short squeeze?! Let me rephrase that - GME short squeeze is about to make fucking history, 🌈🐻s are playing poker with us, hoping we drop our shares before they close their positions.\\n\\nBut guess what?? This is a game that favors us! When you short, the maximum potential gain is 100% and **maximum potential loss is fucking infinity** ! They lost the game, are holding a pair of nothings and we got a freaking royal flush!                                                                                                                                                                                                                                                                                                                                                                                                                                                                                                                                                                                                                                                                                                                                                                                                                                                                                                                                                                                                                                                                                                                                                                                                                                                                                                                                                                                                                                                                                                                                                                                                                                                                                                                                                                                                                                                  1   \n",
       "Just a little experiment. keep holding my guys GME to the moooooon  **✋🚀**  **✋🚀**  **🦍💎**  **🦍💎**  **🦍💎**  **🚀**  **🚀**  **🚀**  **🚀**  **🚀**  **🚀**                                                                                                                                                                                                                                                                                                                                                                                                                                                                                                                                                                                                                                                                                                                                                                                                                                                                                                                                                                                                                                                                                                                                                                                                                                                                                                                                                                                                                                                                                                                                                                                                                                                                                                                                                                                                                                                                                                                                                                                                                                                                                                                                                                                                                                                                1   \n",
       "Name: selftext, Length: 11119, dtype: int64"
      ]
     },
     "execution_count": 4,
     "metadata": {},
     "output_type": "execute_result"
    }
   ],
   "source": [
    "gme_subs['selftext'].value_counts()"
   ]
  },
  {
   "cell_type": "code",
   "execution_count": null,
   "metadata": {},
   "outputs": [],
   "source": []
  }
 ],
 "metadata": {
  "kernelspec": {
   "display_name": "Python (learn-env)",
   "language": "python",
   "name": "learn-env"
  },
  "language_info": {
   "codemirror_mode": {
    "name": "ipython",
    "version": 3
   },
   "file_extension": ".py",
   "mimetype": "text/x-python",
   "name": "python",
   "nbconvert_exporter": "python",
   "pygments_lexer": "ipython3",
   "version": "3.8.5"
  }
 },
 "nbformat": 4,
 "nbformat_minor": 4
}
