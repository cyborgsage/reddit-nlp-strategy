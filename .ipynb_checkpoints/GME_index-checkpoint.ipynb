{
 "cells": [
  {
   "cell_type": "code",
   "execution_count": 1,
   "metadata": {},
   "outputs": [],
   "source": [
    "import nltk\n",
    "from nltk.sentiment.vader import SentimentIntensityAnalyzer\n",
    "from pmaw import PushshiftAPI\n",
    "import matplotlib.pyplot as plt\n",
    "import math\n",
    "from datetime import datetime\n",
    "import datetime as dt\n",
    "import pandas as pd\n",
    "import numpy as np"
   ]
  },
  {
   "cell_type": "code",
   "execution_count": 2,
   "metadata": {},
   "outputs": [
    {
     "data": {
      "text/plain": [
       "Index(['all_awardings', 'associated_award', 'author',\n",
       "       'author_flair_background_color', 'author_flair_css_class',\n",
       "       'author_flair_richtext', 'author_flair_template_id',\n",
       "       'author_flair_text', 'author_flair_text_color', 'author_flair_type',\n",
       "       'author_fullname', 'author_patreon_flair', 'author_premium', 'awarders',\n",
       "       'body', 'collapsed_because_crowd_control', 'comment_type',\n",
       "       'created_utc', 'gildings', 'id', 'is_submitter', 'link_id', 'locked',\n",
       "       'no_follow', 'parent_id', 'permalink', 'retrieved_on', 'score',\n",
       "       'send_replies', 'stickied', 'subreddit', 'subreddit_id',\n",
       "       'top_awarded_type', 'total_awards_received', 'treatment_tags',\n",
       "       'collapsed_reason_code', 'archived', 'body_sha1', 'can_gild',\n",
       "       'collapsed', 'collapsed_reason', 'controversiality', 'distinguished',\n",
       "       'gilded', 'retrieved_utc', 'score_hidden', 'subreddit_name_prefixed',\n",
       "       'subreddit_type', 'author_cakeday', 'unrepliable_reason',\n",
       "       'media_metadata', 'edited'],\n",
       "      dtype='object')"
      ]
     },
     "execution_count": 2,
     "metadata": {},
     "output_type": "execute_result"
    }
   ],
   "source": [
    "gme = pd.read_csv('data/gme_comments.csv', low_memory=False)\n",
    "gme.columns"
   ]
  },
  {
   "cell_type": "code",
   "execution_count": 4,
   "metadata": {},
   "outputs": [
    {
     "data": {
      "text/plain": [
       "0        Did she really buy gme? Can't find it but I ke...\n",
       "1                  No, this is a sexual advice : \\nBuy GME\n",
       "2        Hoping my webull deposit activates my BP by op...\n",
       "3        can we do an emergency shareholders meeting an...\n",
       "4        I was putting in an order to buy GME for MORE ...\n",
       "                               ...                        \n",
       "99995    I got fucked by the wash sale rule on GME (fid...\n",
       "99996                                GME SHOULD BE RUNNING\n",
       "99997    GME: performing very sideways on the day\\n\\nSh...\n",
       "99998    GME, we'll see another dip and once those stim...\n",
       "99999    gme will be $10,000 before the checks hit your...\n",
       "Name: body, Length: 100000, dtype: object"
      ]
     },
     "execution_count": 4,
     "metadata": {},
     "output_type": "execute_result"
    }
   ],
   "source": [
    "gme['body']"
   ]
  },
  {
   "cell_type": "code",
   "execution_count": 5,
   "metadata": {},
   "outputs": [
    {
     "name": "stdout",
     "output_type": "stream",
     "text": [
      "<class 'pandas.core.frame.DataFrame'>\n",
      "RangeIndex: 100000 entries, 0 to 99999\n",
      "Data columns (total 52 columns):\n",
      " #   Column                           Non-Null Count   Dtype  \n",
      "---  ------                           --------------   -----  \n",
      " 0   all_awardings                    100000 non-null  object \n",
      " 1   associated_award                 0 non-null       float64\n",
      " 2   author                           100000 non-null  object \n",
      " 3   author_flair_background_color    4117 non-null    object \n",
      " 4   author_flair_css_class           76 non-null      object \n",
      " 5   author_flair_richtext            99904 non-null   object \n",
      " 6   author_flair_template_id         4117 non-null    object \n",
      " 7   author_flair_text                12753 non-null   object \n",
      " 8   author_flair_text_color          12867 non-null   object \n",
      " 9   author_flair_type                99904 non-null   object \n",
      " 10  author_fullname                  99904 non-null   object \n",
      " 11  author_patreon_flair             99904 non-null   object \n",
      " 12  author_premium                   99904 non-null   object \n",
      " 13  awarders                         96409 non-null   object \n",
      " 14  body                             100000 non-null  object \n",
      " 15  collapsed_because_crowd_control  0 non-null       float64\n",
      " 16  comment_type                     0 non-null       float64\n",
      " 17  created_utc                      100000 non-null  int64  \n",
      " 18  gildings                         100000 non-null  object \n",
      " 19  id                               100000 non-null  object \n",
      " 20  is_submitter                     100000 non-null  bool   \n",
      " 21  link_id                          100000 non-null  object \n",
      " 22  locked                           100000 non-null  bool   \n",
      " 23  no_follow                        100000 non-null  bool   \n",
      " 24  parent_id                        100000 non-null  object \n",
      " 25  permalink                        100000 non-null  object \n",
      " 26  retrieved_on                     96409 non-null   float64\n",
      " 27  score                            100000 non-null  int64  \n",
      " 28  send_replies                     100000 non-null  bool   \n",
      " 29  stickied                         100000 non-null  bool   \n",
      " 30  subreddit                        100000 non-null  object \n",
      " 31  subreddit_id                     100000 non-null  object \n",
      " 32  top_awarded_type                 0 non-null       float64\n",
      " 33  total_awards_received            100000 non-null  int64  \n",
      " 34  treatment_tags                   100000 non-null  object \n",
      " 35  collapsed_reason_code            1232 non-null    object \n",
      " 36  archived                         3591 non-null    object \n",
      " 37  body_sha1                        3591 non-null    object \n",
      " 38  can_gild                         3591 non-null    object \n",
      " 39  collapsed                        3591 non-null    object \n",
      " 40  collapsed_reason                 31 non-null      object \n",
      " 41  controversiality                 3591 non-null    float64\n",
      " 42  distinguished                    186 non-null     object \n",
      " 43  gilded                           3591 non-null    float64\n",
      " 44  retrieved_utc                    3591 non-null    float64\n",
      " 45  score_hidden                     3591 non-null    object \n",
      " 46  subreddit_name_prefixed          3591 non-null    object \n",
      " 47  subreddit_type                   3591 non-null    object \n",
      " 48  author_cakeday                   316 non-null     object \n",
      " 49  unrepliable_reason               0 non-null       float64\n",
      " 50  media_metadata                   277 non-null     object \n",
      " 51  edited                           32 non-null      float64\n",
      "dtypes: bool(5), float64(10), int64(3), object(34)\n",
      "memory usage: 36.3+ MB\n"
     ]
    }
   ],
   "source": [
    "gme.info()"
   ]
  },
  {
   "cell_type": "code",
   "execution_count": null,
   "metadata": {},
   "outputs": [],
   "source": []
  }
 ],
 "metadata": {
  "kernelspec": {
   "display_name": "Python (learn-env)",
   "language": "python",
   "name": "learn-env"
  },
  "language_info": {
   "codemirror_mode": {
    "name": "ipython",
    "version": 3
   },
   "file_extension": ".py",
   "mimetype": "text/x-python",
   "name": "python",
   "nbconvert_exporter": "python",
   "pygments_lexer": "ipython3",
   "version": "3.8.5"
  }
 },
 "nbformat": 4,
 "nbformat_minor": 4
}
