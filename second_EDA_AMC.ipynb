{
 "cells": [
  {
   "cell_type": "code",
   "execution_count": 1,
   "metadata": {
    "scrolled": true
   },
   "outputs": [
    {
     "name": "stderr",
     "output_type": "stream",
     "text": [
      "<ipython-input-1-1c1c12436d94>:26: FutureWarning: Passing a negative integer is deprecated in version 1.0 and will not be supported in future version. Instead, use None to not limit the column width.\n",
      "  pd.set_option('display.max_colwidth', -1)\n"
     ]
    }
   ],
   "source": [
    "import pandas as pd\n",
    "import numpy as np\n",
    "import nltk\n",
    "from nltk.sentiment.vader import SentimentIntensityAnalyzer\n",
    "from pmaw import PushshiftAPI\n",
    "import matplotlib.pyplot as plt\n",
    "import math\n",
    "from datetime import datetime\n",
    "import datetime as dt\n",
    "from nltk.tokenize import RegexpTokenizer, TweetTokenizer, word_tokenize\n",
    "from nltk.corpus import stopwords\n",
    "from nltk.stem import PorterStemmer, SnowballStemmer\n",
    "from sklearn.feature_extraction.text import TfidfVectorizer, CountVectorizer\n",
    "from sklearn.model_selection import train_test_split\n",
    "from sklearn.tree import DecisionTreeClassifier\n",
    "from sklearn.ensemble import RandomForestClassifier\n",
    "from sklearn.naive_bayes import MultinomialNB\n",
    "from sklearn.model_selection import cross_val_score\n",
    "from sklearn.metrics import precision_score, recall_score, accuracy_score, f1_score\n",
    "from sklearn.metrics import plot_confusion_matrix\n",
    "import re\n",
    "import string\n",
    "import seaborn as sns\n",
    "from wordcloud import WordCloud\n",
    "from textblob import TextBlob\n",
    "pd.set_option('display.max_colwidth', -1)"
   ]
  },
  {
   "cell_type": "code",
   "execution_count": 2,
   "metadata": {},
   "outputs": [],
   "source": [
    "amc = pd.read_csv('data/cleaned_preEDA_AMC.csv', low_memory=False)"
   ]
  },
  {
   "cell_type": "code",
   "execution_count": 3,
   "metadata": {
    "scrolled": false
   },
   "outputs": [],
   "source": [
    "from preprocessing_tuner import new_words, new_stopwords"
   ]
  },
  {
   "cell_type": "code",
   "execution_count": 4,
   "metadata": {},
   "outputs": [],
   "source": [
    "stopwords_list = stopwords.words('english')\n",
    "# stopwords_list.append(new_stopwords)"
   ]
  },
  {
   "cell_type": "code",
   "execution_count": 5,
   "metadata": {},
   "outputs": [],
   "source": [
    "def new_cleaner(comment):\n",
    "    punctuation = set(string.punctuation)\n",
    "    x = comment\n",
    "    x = re.sub(r'@[\\w]*', '', x) #remove @ mentions\n",
    "    x = re.sub(r'(https?:\\/\\/)?([\\da-z\\.-]+)\\.([a-z\\.]{2,6})([\\/\\w \\.-]*)', '', x) #remove URLs and links\n",
    "    x = ''.join(ch for ch in x if ch not in punctuation) #remove punctuation\n",
    "    x = x.replace(\"[^a-zA-z]\", \" \") #remove special chars\n",
    "    x = [word.lower() for word in x.split() if word.lower() not in stopwords_list]\n",
    "    return ' '.join(x)"
   ]
  },
  {
   "cell_type": "code",
   "execution_count": 6,
   "metadata": {},
   "outputs": [],
   "source": [
    "amc['cleaned_body'] = amc['body'].map(lambda x: new_cleaner(x))"
   ]
  },
  {
   "cell_type": "code",
   "execution_count": 7,
   "metadata": {},
   "outputs": [],
   "source": [
    "new_vader = SentimentIntensityAnalyzer()\n",
    "new_vader.lexicon.update(new_words)\n",
    "def find_sentiment(post):\n",
    "    if new_vader.polarity_scores(post)[\"compound\"] > 0:\n",
    "        return \"Positive\"\n",
    "    elif new_vader.polarity_scores(post)[\"compound\"] < 0:\n",
    "        return \"Negative\"\n",
    "    else:\n",
    "        return \"Neutral\" "
   ]
  },
  {
   "cell_type": "code",
   "execution_count": 8,
   "metadata": {},
   "outputs": [],
   "source": [
    "amc['new_sentiment'] = amc['cleaned_body'].apply(lambda x: find_sentiment(x))"
   ]
  },
  {
   "cell_type": "code",
   "execution_count": 9,
   "metadata": {},
   "outputs": [
    {
     "data": {
      "image/png": "[encoded data removed]",
      "text/plain": [
       "<Figure size 576x576 with 1 Axes>"
      ]
     },
     "metadata": {
      "needs_background": "light"
     },
     "output_type": "display_data"
    }
   ],
   "source": [
    "counts = amc['new_sentiment'].value_counts()\n",
    "fig, ax = plt.subplots(figsize=(8, 8))\n",
    "barlist = plt.bar(['Positive','Neutral','Negative'],counts)\n",
    "barlist[0].set_color('green')\n",
    "barlist[1].set_color('grey')\n",
    "barlist[2].set_color('navy')\n",
    "ax.set_ylabel('Count', size=24)\n",
    "plt.title(\"VADER Comment Sentiment\", fontsize=32, fontweight='bold')\n",
    "plt.tight_layout()\n",
    "plt.tick_params(labelsize=20)\n",
    "plt.xticks(rotation=30)\n",
    "plt.show()"
   ]
  },
  {
   "cell_type": "code",
   "execution_count": 10,
   "metadata": {},
   "outputs": [
    {
     "data": {
      "text/plain": [
       "Positive    51418\n",
       "Neutral     24784\n",
       "Negative    23798\n",
       "Name: new_sentiment, dtype: int64"
      ]
     },
     "execution_count": 10,
     "metadata": {},
     "output_type": "execute_result"
    }
   ],
   "source": [
    "amc['new_sentiment'].value_counts()"
   ]
  },
  {
   "cell_type": "code",
   "execution_count": 11,
   "metadata": {},
   "outputs": [],
   "source": [
    "# amc.to_csv('data/amc_modeling_2.csv', index=False)"
   ]
  },
  {
   "cell_type": "code",
   "execution_count": 14,
   "metadata": {},
   "outputs": [],
   "source": [
    "# numsents_2 = amc[['cleaned_body', 'created_utc']].copy()\n",
    "# numsents_2.dropna(inplace=True)\n",
    "# numsents_2['sentiments'] = numsents_2['cleaned_body'].apply(lambda x: new_vader.polarity_scores(x)\n",
    "# numsents_2['Positive Sentiment'] = numsents_2['sentiments'].apply(lambda x: x['pos']+1*(10**-6)) \n",
    "# numsents_2['Neutral Sentiment'] = numsents_2['sentiments'].apply(lambda x: x['neu']+1*(10**-6))\n",
    "# numsents_2['Negative Sentiment'] = numsents_2['sentiments'].apply(lambda x: x['neg']+1*(10**-6))\n",
    "# numsents_2['Compound Sentiment'] = numsents_2['sentiments'].apply(lambda x: x['compound']+1*(10**-6))\n",
    "# numsents_2.drop(columns=['sentiments'],inplace=True)"
   ]
  },
  {
   "cell_type": "code",
   "execution_count": 17,
   "metadata": {},
   "outputs": [],
   "source": [
    "# numsents_2.to_csv('data/amc_numsents_2.csv', index=False)"
   ]
  },
  {
   "cell_type": "markdown",
   "metadata": {},
   "source": [
    "Numsents 2 failed. <br>\n",
    "Although the machine learning learning classification models such as NaiveBayes, DecisionTree, RandomForest, and XGBoost did better with Modeling v2 data, this was because they likely picked up on the boosted values of the updated lexicon word list. <br> \n",
    "When it came to time series, those values distorted the numeric sentiment values. Proceeding with the original numeric sentiment values correlated with price better than using the new sentiment analyzer."
   ]
  },
  {
   "cell_type": "code",
   "execution_count": null,
   "metadata": {},
   "outputs": [],
   "source": []
  }
 ],
 "metadata": {
  "kernelspec": {
   "display_name": "Python (learn-env)",
   "language": "python",
   "name": "learn-env"
  },
  "language_info": {
   "codemirror_mode": {
    "name": "ipython",
    "version": 3
   },
   "file_extension": ".py",
   "mimetype": "text/x-python",
   "name": "python",
   "nbconvert_exporter": "python",
   "pygments_lexer": "ipython3",
   "version": "3.8.5"
  }
 },
 "nbformat": 4,
 "nbformat_minor": 4
}
