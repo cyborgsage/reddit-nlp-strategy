{
 "cells": [
  {
   "cell_type": "code",
   "execution_count": 54,
   "metadata": {},
   "outputs": [],
   "source": [
    "#VADER = body_sentiment\n",
    "#TextBlob = blob_sent"
   ]
  },
  {
   "cell_type": "code",
   "execution_count": 81,
   "metadata": {},
   "outputs": [
    {
     "name": "stderr",
     "output_type": "stream",
     "text": [
      "<ipython-input-81-4d7cd63834e5>:31: FutureWarning: Passing a negative integer is deprecated in version 1.0 and will not be supported in future version. Instead, use None to not limit the column width.\n",
      "  pd.set_option('display.max_colwidth', -1)\n"
     ]
    }
   ],
   "source": [
    "import pandas as pd\n",
    "import numpy as np\n",
    "import nltk\n",
    "from nltk.sentiment.vader import SentimentIntensityAnalyzer\n",
    "from pmaw import PushshiftAPI\n",
    "import matplotlib.pyplot as plt\n",
    "import math\n",
    "from datetime import datetime\n",
    "import datetime as dt\n",
    "from nltk.tokenize import RegexpTokenizer, TweetTokenizer, word_tokenize\n",
    "from nltk.corpus import stopwords\n",
    "from nltk.stem import PorterStemmer, SnowballStemmer\n",
    "from sklearn.feature_extraction.text import TfidfVectorizer, CountVectorizer\n",
    "from sklearn.model_selection import train_test_split\n",
    "from sklearn.tree import DecisionTreeClassifier\n",
    "from sklearn.ensemble import RandomForestClassifier\n",
    "from sklearn.naive_bayes import MultinomialNB\n",
    "from sklearn.model_selection import cross_val_score\n",
    "from sklearn.metrics import precision_score, recall_score, accuracy_score, f1_score\n",
    "from sklearn.metrics import plot_confusion_matrix\n",
    "import re\n",
    "import string\n",
    "import seaborn as sns\n",
    "from wordcloud import WordCloud\n",
    "\n",
    "from statsmodels.tsa.stattools import adfuller\n",
    "import pmdarima as pm\n",
    "from pmdarima import model_selection\n",
    "from pmdarima.utils import decomposed_plot\n",
    "from pmdarima.arima import decompose\n",
    "pd.set_option('display.max_colwidth', -1)"
   ]
  },
  {
   "cell_type": "code",
   "execution_count": 56,
   "metadata": {},
   "outputs": [],
   "source": [
    "df = pd.read_csv('data/amc_modeling.csv', low_memory=False)"
   ]
  },
  {
   "cell_type": "code",
   "execution_count": 57,
   "metadata": {},
   "outputs": [
    {
     "data": {
      "text/plain": [
       "body                     0\n",
       "score                    0\n",
       "total_awards_received    0\n",
       "created_utc              0\n",
       "author                   0\n",
       "permalink                0\n",
       "cleaned_body             0\n",
       "body_sentiment           0\n",
       "blob_sent                0\n",
       "dtype: int64"
      ]
     },
     "execution_count": 57,
     "metadata": {},
     "output_type": "execute_result"
    }
   ],
   "source": [
    "df.dropna(inplace=True)\n",
    "df.isna().sum()"
   ]
  },
  {
   "cell_type": "code",
   "execution_count": 58,
   "metadata": {},
   "outputs": [],
   "source": [
    "X = df['cleaned_body']\n",
    "y = df['body_sentiment']\n",
    "X_train, X_test, y_train, y_test = train_test_split(X, y, random_state=42)"
   ]
  },
  {
   "cell_type": "code",
   "execution_count": 59,
   "metadata": {
    "scrolled": true
   },
   "outputs": [],
   "source": [
    "stopwords_list = stopwords.words('english')\n",
    "vectorizer = CountVectorizer(stop_words=stopwords_list, max_features=200)\n",
    "X_train_vectorized = vectorizer.fit_transform(X_train)\n",
    "X_test_vectorized = vectorizer.transform(X_test)"
   ]
  },
  {
   "cell_type": "code",
   "execution_count": 60,
   "metadata": {},
   "outputs": [],
   "source": [
    "# tfidf = TfidfVectorizer(stop_words=stopwords_list, max_features=200)\n",
    "# X_train_vectorized = tfidf.fit_transform(X_train)\n",
    "# X_test_vectorized = tfidf.transform(X_test)"
   ]
  },
  {
   "cell_type": "code",
   "execution_count": 61,
   "metadata": {},
   "outputs": [
    {
     "data": {
      "text/html": [
       "<div>\n",
       "<style scoped>\n",
       "    .dataframe tbody tr th:only-of-type {\n",
       "        vertical-align: middle;\n",
       "    }\n",
       "\n",
       "    .dataframe tbody tr th {\n",
       "        vertical-align: top;\n",
       "    }\n",
       "\n",
       "    .dataframe thead th {\n",
       "        text-align: right;\n",
       "    }\n",
       "</style>\n",
       "<table border=\"1\" class=\"dataframe\">\n",
       "  <thead>\n",
       "    <tr style=\"text-align: right;\">\n",
       "      <th></th>\n",
       "      <th>10</th>\n",
       "      <th>100</th>\n",
       "      <th>20</th>\n",
       "      <th>30</th>\n",
       "      <th>50</th>\n",
       "      <th>actually</th>\n",
       "      <th>ago</th>\n",
       "      <th>already</th>\n",
       "      <th>also</th>\n",
       "      <th>always</th>\n",
       "      <th>...</th>\n",
       "      <th>went</th>\n",
       "      <th>wish</th>\n",
       "      <th>worth</th>\n",
       "      <th>would</th>\n",
       "      <th>wsb</th>\n",
       "      <th>yeah</th>\n",
       "      <th>year</th>\n",
       "      <th>years</th>\n",
       "      <th>yes</th>\n",
       "      <th>youre</th>\n",
       "    </tr>\n",
       "  </thead>\n",
       "  <tbody>\n",
       "    <tr>\n",
       "      <th>0</th>\n",
       "      <td>0</td>\n",
       "      <td>0</td>\n",
       "      <td>0</td>\n",
       "      <td>0</td>\n",
       "      <td>0</td>\n",
       "      <td>0</td>\n",
       "      <td>0</td>\n",
       "      <td>0</td>\n",
       "      <td>1</td>\n",
       "      <td>0</td>\n",
       "      <td>...</td>\n",
       "      <td>0</td>\n",
       "      <td>0</td>\n",
       "      <td>0</td>\n",
       "      <td>0</td>\n",
       "      <td>0</td>\n",
       "      <td>0</td>\n",
       "      <td>0</td>\n",
       "      <td>0</td>\n",
       "      <td>0</td>\n",
       "      <td>0</td>\n",
       "    </tr>\n",
       "    <tr>\n",
       "      <th>1</th>\n",
       "      <td>0</td>\n",
       "      <td>0</td>\n",
       "      <td>0</td>\n",
       "      <td>0</td>\n",
       "      <td>0</td>\n",
       "      <td>0</td>\n",
       "      <td>0</td>\n",
       "      <td>0</td>\n",
       "      <td>0</td>\n",
       "      <td>0</td>\n",
       "      <td>...</td>\n",
       "      <td>0</td>\n",
       "      <td>0</td>\n",
       "      <td>0</td>\n",
       "      <td>0</td>\n",
       "      <td>0</td>\n",
       "      <td>0</td>\n",
       "      <td>0</td>\n",
       "      <td>0</td>\n",
       "      <td>0</td>\n",
       "      <td>0</td>\n",
       "    </tr>\n",
       "    <tr>\n",
       "      <th>2</th>\n",
       "      <td>0</td>\n",
       "      <td>0</td>\n",
       "      <td>0</td>\n",
       "      <td>0</td>\n",
       "      <td>0</td>\n",
       "      <td>0</td>\n",
       "      <td>0</td>\n",
       "      <td>0</td>\n",
       "      <td>0</td>\n",
       "      <td>0</td>\n",
       "      <td>...</td>\n",
       "      <td>0</td>\n",
       "      <td>0</td>\n",
       "      <td>0</td>\n",
       "      <td>0</td>\n",
       "      <td>0</td>\n",
       "      <td>0</td>\n",
       "      <td>0</td>\n",
       "      <td>0</td>\n",
       "      <td>0</td>\n",
       "      <td>0</td>\n",
       "    </tr>\n",
       "    <tr>\n",
       "      <th>3</th>\n",
       "      <td>0</td>\n",
       "      <td>0</td>\n",
       "      <td>0</td>\n",
       "      <td>0</td>\n",
       "      <td>0</td>\n",
       "      <td>0</td>\n",
       "      <td>0</td>\n",
       "      <td>0</td>\n",
       "      <td>0</td>\n",
       "      <td>0</td>\n",
       "      <td>...</td>\n",
       "      <td>0</td>\n",
       "      <td>0</td>\n",
       "      <td>0</td>\n",
       "      <td>0</td>\n",
       "      <td>0</td>\n",
       "      <td>0</td>\n",
       "      <td>0</td>\n",
       "      <td>0</td>\n",
       "      <td>0</td>\n",
       "      <td>0</td>\n",
       "    </tr>\n",
       "    <tr>\n",
       "      <th>4</th>\n",
       "      <td>0</td>\n",
       "      <td>0</td>\n",
       "      <td>0</td>\n",
       "      <td>0</td>\n",
       "      <td>0</td>\n",
       "      <td>0</td>\n",
       "      <td>0</td>\n",
       "      <td>0</td>\n",
       "      <td>0</td>\n",
       "      <td>0</td>\n",
       "      <td>...</td>\n",
       "      <td>0</td>\n",
       "      <td>0</td>\n",
       "      <td>0</td>\n",
       "      <td>0</td>\n",
       "      <td>0</td>\n",
       "      <td>0</td>\n",
       "      <td>0</td>\n",
       "      <td>0</td>\n",
       "      <td>0</td>\n",
       "      <td>0</td>\n",
       "    </tr>\n",
       "    <tr>\n",
       "      <th>...</th>\n",
       "      <td>...</td>\n",
       "      <td>...</td>\n",
       "      <td>...</td>\n",
       "      <td>...</td>\n",
       "      <td>...</td>\n",
       "      <td>...</td>\n",
       "      <td>...</td>\n",
       "      <td>...</td>\n",
       "      <td>...</td>\n",
       "      <td>...</td>\n",
       "      <td>...</td>\n",
       "      <td>...</td>\n",
       "      <td>...</td>\n",
       "      <td>...</td>\n",
       "      <td>...</td>\n",
       "      <td>...</td>\n",
       "      <td>...</td>\n",
       "      <td>...</td>\n",
       "      <td>...</td>\n",
       "      <td>...</td>\n",
       "      <td>...</td>\n",
       "    </tr>\n",
       "    <tr>\n",
       "      <th>74908</th>\n",
       "      <td>0</td>\n",
       "      <td>0</td>\n",
       "      <td>0</td>\n",
       "      <td>0</td>\n",
       "      <td>0</td>\n",
       "      <td>0</td>\n",
       "      <td>0</td>\n",
       "      <td>0</td>\n",
       "      <td>0</td>\n",
       "      <td>0</td>\n",
       "      <td>...</td>\n",
       "      <td>0</td>\n",
       "      <td>0</td>\n",
       "      <td>0</td>\n",
       "      <td>0</td>\n",
       "      <td>0</td>\n",
       "      <td>0</td>\n",
       "      <td>0</td>\n",
       "      <td>0</td>\n",
       "      <td>0</td>\n",
       "      <td>0</td>\n",
       "    </tr>\n",
       "    <tr>\n",
       "      <th>74909</th>\n",
       "      <td>0</td>\n",
       "      <td>0</td>\n",
       "      <td>0</td>\n",
       "      <td>0</td>\n",
       "      <td>0</td>\n",
       "      <td>0</td>\n",
       "      <td>0</td>\n",
       "      <td>0</td>\n",
       "      <td>0</td>\n",
       "      <td>0</td>\n",
       "      <td>...</td>\n",
       "      <td>0</td>\n",
       "      <td>0</td>\n",
       "      <td>0</td>\n",
       "      <td>0</td>\n",
       "      <td>0</td>\n",
       "      <td>0</td>\n",
       "      <td>0</td>\n",
       "      <td>0</td>\n",
       "      <td>0</td>\n",
       "      <td>0</td>\n",
       "    </tr>\n",
       "    <tr>\n",
       "      <th>74910</th>\n",
       "      <td>0</td>\n",
       "      <td>0</td>\n",
       "      <td>0</td>\n",
       "      <td>0</td>\n",
       "      <td>0</td>\n",
       "      <td>0</td>\n",
       "      <td>0</td>\n",
       "      <td>0</td>\n",
       "      <td>0</td>\n",
       "      <td>0</td>\n",
       "      <td>...</td>\n",
       "      <td>0</td>\n",
       "      <td>0</td>\n",
       "      <td>0</td>\n",
       "      <td>0</td>\n",
       "      <td>0</td>\n",
       "      <td>0</td>\n",
       "      <td>0</td>\n",
       "      <td>0</td>\n",
       "      <td>0</td>\n",
       "      <td>0</td>\n",
       "    </tr>\n",
       "    <tr>\n",
       "      <th>74911</th>\n",
       "      <td>0</td>\n",
       "      <td>0</td>\n",
       "      <td>0</td>\n",
       "      <td>0</td>\n",
       "      <td>0</td>\n",
       "      <td>1</td>\n",
       "      <td>0</td>\n",
       "      <td>0</td>\n",
       "      <td>0</td>\n",
       "      <td>0</td>\n",
       "      <td>...</td>\n",
       "      <td>0</td>\n",
       "      <td>0</td>\n",
       "      <td>0</td>\n",
       "      <td>0</td>\n",
       "      <td>0</td>\n",
       "      <td>0</td>\n",
       "      <td>0</td>\n",
       "      <td>0</td>\n",
       "      <td>0</td>\n",
       "      <td>0</td>\n",
       "    </tr>\n",
       "    <tr>\n",
       "      <th>74912</th>\n",
       "      <td>0</td>\n",
       "      <td>0</td>\n",
       "      <td>0</td>\n",
       "      <td>0</td>\n",
       "      <td>0</td>\n",
       "      <td>0</td>\n",
       "      <td>0</td>\n",
       "      <td>0</td>\n",
       "      <td>0</td>\n",
       "      <td>0</td>\n",
       "      <td>...</td>\n",
       "      <td>0</td>\n",
       "      <td>0</td>\n",
       "      <td>0</td>\n",
       "      <td>0</td>\n",
       "      <td>0</td>\n",
       "      <td>0</td>\n",
       "      <td>0</td>\n",
       "      <td>0</td>\n",
       "      <td>0</td>\n",
       "      <td>0</td>\n",
       "    </tr>\n",
       "  </tbody>\n",
       "</table>\n",
       "<p>74913 rows × 200 columns</p>\n",
       "</div>"
      ],
      "text/plain": [
       "       10  100  20  30  50  actually  ago  already  also  always  ...  went  \\\n",
       "0      0   0    0   0   0   0         0    0        1     0       ...  0      \n",
       "1      0   0    0   0   0   0         0    0        0     0       ...  0      \n",
       "2      0   0    0   0   0   0         0    0        0     0       ...  0      \n",
       "3      0   0    0   0   0   0         0    0        0     0       ...  0      \n",
       "4      0   0    0   0   0   0         0    0        0     0       ...  0      \n",
       "...   ..  ..   ..  ..  ..  ..        ..   ..       ..    ..       ... ..      \n",
       "74908  0   0    0   0   0   0         0    0        0     0       ...  0      \n",
       "74909  0   0    0   0   0   0         0    0        0     0       ...  0      \n",
       "74910  0   0    0   0   0   0         0    0        0     0       ...  0      \n",
       "74911  0   0    0   0   0   1         0    0        0     0       ...  0      \n",
       "74912  0   0    0   0   0   0         0    0        0     0       ...  0      \n",
       "\n",
       "       wish  worth  would  wsb  yeah  year  years  yes  youre  \n",
       "0      0     0      0      0    0     0     0      0    0      \n",
       "1      0     0      0      0    0     0     0      0    0      \n",
       "2      0     0      0      0    0     0     0      0    0      \n",
       "3      0     0      0      0    0     0     0      0    0      \n",
       "4      0     0      0      0    0     0     0      0    0      \n",
       "...   ..    ..     ..     ..   ..    ..    ..     ..   ..      \n",
       "74908  0     0      0      0    0     0     0      0    0      \n",
       "74909  0     0      0      0    0     0     0      0    0      \n",
       "74910  0     0      0      0    0     0     0      0    0      \n",
       "74911  0     0      0      0    0     0     0      0    0      \n",
       "74912  0     0      0      0    0     0     0      0    0      \n",
       "\n",
       "[74913 rows x 200 columns]"
      ]
     },
     "execution_count": 61,
     "metadata": {},
     "output_type": "execute_result"
    }
   ],
   "source": [
    "pd.DataFrame.sparse.from_spmatrix(X_train_vectorized, columns=vectorizer.get_feature_names())"
   ]
  },
  {
   "cell_type": "markdown",
   "metadata": {},
   "source": [
    "# Classification"
   ]
  },
  {
   "cell_type": "markdown",
   "metadata": {},
   "source": [
    "### First Simple Model: NaiveBayes"
   ]
  },
  {
   "cell_type": "code",
   "execution_count": 62,
   "metadata": {},
   "outputs": [
    {
     "data": {
      "text/plain": [
       "0.6643172747053249"
      ]
     },
     "execution_count": 62,
     "metadata": {},
     "output_type": "execute_result"
    }
   ],
   "source": [
    "baseline_model = MultinomialNB()\n",
    "baseline_model.fit(X_train_vectorized, y_train)\n",
    "baseline_model.score(X_train_vectorized, y_train)"
   ]
  },
  {
   "cell_type": "code",
   "execution_count": 63,
   "metadata": {},
   "outputs": [
    {
     "name": "stdout",
     "output_type": "stream",
     "text": [
      "0.6680682364247957\n"
     ]
    }
   ],
   "source": [
    "y_pred_bm = baseline_model.predict(X_test_vectorized)\n",
    "print(accuracy_score(y_test, y_pred_bm))"
   ]
  },
  {
   "cell_type": "code",
   "execution_count": 80,
   "metadata": {},
   "outputs": [
    {
     "data": {
      "image/png": "[encoded data removed]",
      "text/plain": [
       "<Figure size 576x576 with 2 Axes>"
      ]
     },
     "metadata": {
      "needs_background": "light"
     },
     "output_type": "display_data"
    }
   ],
   "source": [
    "fig, ax = plt.subplots(figsize=(8,8))\n",
    "plot_confusion_matrix(baseline_model, X_test_vectorized, y_test, ax=ax, cmap=\"cividis\");"
   ]
  },
  {
   "cell_type": "markdown",
   "metadata": {},
   "source": [
    "### RandomForest"
   ]
  },
  {
   "cell_type": "code",
   "execution_count": 64,
   "metadata": {},
   "outputs": [
    {
     "data": {
      "text/plain": [
       "0.9038484642184934"
      ]
     },
     "execution_count": 64,
     "metadata": {},
     "output_type": "execute_result"
    }
   ],
   "source": [
    "rf = RandomForestClassifier()\n",
    "rf.fit(X_train_vectorized, y_train)\n",
    "rf.score(X_train_vectorized, y_train)"
   ]
  },
  {
   "cell_type": "code",
   "execution_count": 65,
   "metadata": {},
   "outputs": [
    {
     "data": {
      "image/png": "[encoded data removed]",
      "text/plain": [
       "<Figure size 576x576 with 2 Axes>"
      ]
     },
     "metadata": {
      "needs_background": "light"
     },
     "output_type": "display_data"
    }
   ],
   "source": [
    "fig, ax = plt.subplots(figsize=(8,8))\n",
    "plot_confusion_matrix(rf, X_test_vectorized, y_test, ax=ax, cmap=\"cividis\");"
   ]
  },
  {
   "cell_type": "code",
   "execution_count": 66,
   "metadata": {},
   "outputs": [
    {
     "name": "stdout",
     "output_type": "stream",
     "text": [
      "0.6594585936248598\n"
     ]
    }
   ],
   "source": [
    "y_pred_rf = rf.predict(X_test_vectorized)\n",
    "print(accuracy_score(y_test, y_pred_rf))"
   ]
  },
  {
   "cell_type": "markdown",
   "metadata": {},
   "source": [
    "### DecisionTree"
   ]
  },
  {
   "cell_type": "code",
   "execution_count": 67,
   "metadata": {},
   "outputs": [
    {
     "data": {
      "text/plain": [
       "0.9038484642184934"
      ]
     },
     "execution_count": 67,
     "metadata": {},
     "output_type": "execute_result"
    }
   ],
   "source": [
    "dt = DecisionTreeClassifier()\n",
    "dt.fit(X_train_vectorized, y_train)\n",
    "dt.score(X_train_vectorized, y_train)"
   ]
  },
  {
   "cell_type": "code",
   "execution_count": 68,
   "metadata": {},
   "outputs": [
    {
     "data": {
      "image/png": "[encoded data removed]",
      "text/plain": [
       "<Figure size 576x576 with 2 Axes>"
      ]
     },
     "metadata": {
      "needs_background": "light"
     },
     "output_type": "display_data"
    }
   ],
   "source": [
    "fig, ax = plt.subplots(figsize=(8,8))\n",
    "plot_confusion_matrix(dt, X_test_vectorized, y_test, ax=ax, cmap=\"cividis\");"
   ]
  },
  {
   "cell_type": "code",
   "execution_count": 69,
   "metadata": {},
   "outputs": [
    {
     "name": "stdout",
     "output_type": "stream",
     "text": [
      "0.6134070158577607\n"
     ]
    }
   ],
   "source": [
    "y_pred_dt = dt.predict(X_test_vectorized)\n",
    "y_pred_dt = dt.predict(X_test_vectorized)\n",
    "print(accuracy_score(y_test, y_pred_dt))"
   ]
  },
  {
   "cell_type": "markdown",
   "metadata": {},
   "source": [
    "### XGBoost"
   ]
  },
  {
   "cell_type": "code",
   "execution_count": 70,
   "metadata": {},
   "outputs": [],
   "source": [
    "from xgboost import XGBClassifier"
   ]
  },
  {
   "cell_type": "code",
   "execution_count": 71,
   "metadata": {},
   "outputs": [
    {
     "name": "stderr",
     "output_type": "stream",
     "text": [
      "C:\\Users\\dougl\\anaconda3\\envs\\learn-env\\lib\\site-packages\\xgboost\\sklearn.py:888: UserWarning: The use of label encoder in XGBClassifier is deprecated and will be removed in a future release. To remove this warning, do the following: 1) Pass option use_label_encoder=False when constructing XGBClassifier object; and 2) Encode your labels (y) as integers starting with 0, i.e. 0, 1, 2, ..., [num_class - 1].\n",
      "  warnings.warn(label_encoder_deprecation_msg, UserWarning)\n"
     ]
    },
    {
     "data": {
      "text/plain": [
       "0.7187804519909762"
      ]
     },
     "execution_count": 71,
     "metadata": {},
     "output_type": "execute_result"
    }
   ],
   "source": [
    "xgb = XGBClassifier(eval_metric='mlogloss')\n",
    "xgb.fit(X_train_vectorized, y_train)\n",
    "xgb.score(X_train_vectorized, y_train)"
   ]
  },
  {
   "cell_type": "code",
   "execution_count": 72,
   "metadata": {
    "scrolled": true
   },
   "outputs": [
    {
     "name": "stdout",
     "output_type": "stream",
     "text": [
      "0.6854076565753644\n"
     ]
    }
   ],
   "source": [
    "y_pred_xgb = xgb.predict(X_test_vectorized)\n",
    "print(accuracy_score(y_test, y_pred_xgb))"
   ]
  },
  {
   "cell_type": "markdown",
   "metadata": {},
   "source": [
    "The XGBoost did the best with a .72 training score and .69 test score. The naive bayes was middle of the road. The training and test scores were similar at .66. The decision tree and random forest had massive overfitting resulting in much lower test scores than training scores. "
   ]
  },
  {
   "cell_type": "markdown",
   "metadata": {},
   "source": [
    "### Verifying the accuracy of the body_sentiment column by manual labeling"
   ]
  },
  {
   "cell_type": "markdown",
   "metadata": {},
   "source": [
    "Create a random sample of 300 entries. Manually label the comments either positive, neutral, or negative. Verify the accuracy of body_sentiment generated by VADER. \n",
    "Create a new column generated by another lexicon sentiment analyzer, SentiWordNet (textblob). Next, test Flair (embedded model), and lastly a custom model. Verify the accuracy of the new column with the manually labeled column."
   ]
  },
  {
   "cell_type": "code",
   "execution_count": 73,
   "metadata": {},
   "outputs": [],
   "source": [
    "sample_df = df.sample(n=100, random_state=42)"
   ]
  },
  {
   "cell_type": "code",
   "execution_count": 74,
   "metadata": {
    "scrolled": false
   },
   "outputs": [],
   "source": [
    "# sample_df.iloc[90:100]['body']"
   ]
  },
  {
   "cell_type": "code",
   "execution_count": 75,
   "metadata": {},
   "outputs": [],
   "source": [
    "labels = ['Positive','Positive','Negative','Negative','Positive','Negative','Positive','Positive','Neutral','Neutral',\n",
    "         'Negative','Neutral','Positive','Positive','Neutral','Positive','Negative','Positive','Neutral','Positive',\n",
    "          'Positive','Positive','Neutral','Positive','Neutral','Negative','Positive','Positive','Positive','Negative',\n",
    "          'Negative','Positive','Positive','Neutral','Negative','Positive','Negative','Positive','Positive','Positive',\n",
    "          'Positive','Positive','Positive','Neutral','Positive','Negative','Negative','Neutral','Neutral','Negative',\n",
    "          'Neutral','Positive','Positive','Neutral','Positive','Positive','Neutral','Positive','Negative','Positive',\n",
    "          'Negative','Neutral','Negative','Neutral','Positive','Negative','Positive','Neutral','Negative','Positive',\n",
    "          'Negative','Negative','Positive','Positive','Neutral','Neutral','Positive','Positive','Negative','Neutral',\n",
    "          'Positive','Negative','Positive','Neutral','Positive','Negative','Neutral','Neutral','Negative','Positive',\n",
    "          'Positive','Neutral','Positive','Neutral','Positive','Positive','Positive','Positive','Neutral','Positive'\n",
    "         ]"
   ]
  },
  {
   "cell_type": "code",
   "execution_count": 76,
   "metadata": {},
   "outputs": [],
   "source": [
    "sample_df = sample_df[['body','cleaned_body','body_sentiment','blob_sent']]"
   ]
  },
  {
   "cell_type": "code",
   "execution_count": 77,
   "metadata": {
    "scrolled": true
   },
   "outputs": [],
   "source": [
    "sample_df['labels']=labels"
   ]
  },
  {
   "cell_type": "code",
   "execution_count": 78,
   "metadata": {
    "scrolled": true
   },
   "outputs": [
    {
     "data": {
      "text/plain": [
       "0.43"
      ]
     },
     "execution_count": 78,
     "metadata": {},
     "output_type": "execute_result"
    }
   ],
   "source": [
    "accuracy_score(sample_df['labels'],sample_df['body_sentiment'])"
   ]
  },
  {
   "cell_type": "code",
   "execution_count": 79,
   "metadata": {
    "scrolled": true
   },
   "outputs": [
    {
     "data": {
      "text/plain": [
       "0.42"
      ]
     },
     "execution_count": 79,
     "metadata": {},
     "output_type": "execute_result"
    }
   ],
   "source": [
    "accuracy_score(sample_df['labels'],sample_df['blob_sent'])"
   ]
  },
  {
   "cell_type": "markdown",
   "metadata": {},
   "source": [
    "*SOOO it turns out that VADER is only returning a 43% accuracy score on it's rule based sentiment classifications as compared to my manually labeled column. When I performed the accuracy score on TextBlob sentiment classifications against the manually labeled column, it turned out to be very similar at 42% accuracy. It may be due to the subjective nature of posts in relation to the stock market and price, as well as the amount of noise present within reddit and social media environments in general.\n",
    "<br><br>\n",
    "Lets try quantitative analysis of the sentiment scores in the next section and how these scores changed over time. We will import the time series data we prepared in the EDA.*"
   ]
  },
  {
   "cell_type": "markdown",
   "metadata": {},
   "source": [
    "# Time Series"
   ]
  },
  {
   "cell_type": "code",
   "execution_count": 84,
   "metadata": {
    "scrolled": true
   },
   "outputs": [
    {
     "data": {
      "text/html": [
       "<div>\n",
       "<style scoped>\n",
       "    .dataframe tbody tr th:only-of-type {\n",
       "        vertical-align: middle;\n",
       "    }\n",
       "\n",
       "    .dataframe tbody tr th {\n",
       "        vertical-align: top;\n",
       "    }\n",
       "\n",
       "    .dataframe thead th {\n",
       "        text-align: right;\n",
       "    }\n",
       "</style>\n",
       "<table border=\"1\" class=\"dataframe\">\n",
       "  <thead>\n",
       "    <tr style=\"text-align: right;\">\n",
       "      <th></th>\n",
       "      <th>cleaned_body</th>\n",
       "      <th>created_utc</th>\n",
       "      <th>Positive Sentiment</th>\n",
       "      <th>Neutral Sentiment</th>\n",
       "      <th>Negative Sentiment</th>\n",
       "    </tr>\n",
       "  </thead>\n",
       "  <tbody>\n",
       "    <tr>\n",
       "      <th>0</th>\n",
       "      <td>same i love movies and some movies really have to be seen in the theater to really appreciate them when this is all over im definitely hitting up amc to watch some flicks with a beer and tendies</td>\n",
       "      <td>1614904519</td>\n",
       "      <td>0.231001</td>\n",
       "      <td>0.769001</td>\n",
       "      <td>0.000001</td>\n",
       "    </tr>\n",
       "    <tr>\n",
       "      <th>1</th>\n",
       "      <td>i have a question for anyone that has the answer to this are the hedgefunds that shorted gme the same hedgefunds that shorted amc why are these two so similar in price action</td>\n",
       "      <td>1614904484</td>\n",
       "      <td>0.000001</td>\n",
       "      <td>1.000001</td>\n",
       "      <td>0.000001</td>\n",
       "    </tr>\n",
       "    <tr>\n",
       "      <th>2</th>\n",
       "      <td>hey guys on a scale of 110 how retarded am i i bought 7 puts on amc while it was tanking while 50 of everything ive earned is in it 9</td>\n",
       "      <td>1614904447</td>\n",
       "      <td>0.000001</td>\n",
       "      <td>0.871001</td>\n",
       "      <td>0.129001</td>\n",
       "    </tr>\n",
       "    <tr>\n",
       "      <th>3</th>\n",
       "      <td>got 50 amc at 1330 and 52 gme at 111 don’t forget me on the way</td>\n",
       "      <td>1614904423</td>\n",
       "      <td>0.000001</td>\n",
       "      <td>0.888001</td>\n",
       "      <td>0.112001</td>\n",
       "    </tr>\n",
       "    <tr>\n",
       "      <th>4</th>\n",
       "      <td>truly fuck amc</td>\n",
       "      <td>1614904404</td>\n",
       "      <td>0.392001</td>\n",
       "      <td>0.135001</td>\n",
       "      <td>0.473001</td>\n",
       "    </tr>\n",
       "  </tbody>\n",
       "</table>\n",
       "</div>"
      ],
      "text/plain": [
       "                                                                                                                                                                                         cleaned_body  \\\n",
       "0  same i love movies and some movies really have to be seen in the theater to really appreciate them when this is all over im definitely hitting up amc to watch some flicks with a beer and tendies   \n",
       "1  i have a question for anyone that has the answer to this are the hedgefunds that shorted gme the same hedgefunds that shorted amc why are these two so similar in price action                       \n",
       "2  hey guys on a scale of 110 how retarded am i i bought 7 puts on amc while it was tanking while 50 of everything ive earned is in it 9                                                                \n",
       "3  got 50 amc at 1330 and 52 gme at 111 don’t forget me on the way                                                                                                                                      \n",
       "4  truly fuck amc                                                                                                                                                                                       \n",
       "\n",
       "   created_utc  Positive Sentiment  Neutral Sentiment  Negative Sentiment  \n",
       "0  1614904519   0.231001            0.769001           0.000001            \n",
       "1  1614904484   0.000001            1.000001           0.000001            \n",
       "2  1614904447   0.000001            0.871001           0.129001            \n",
       "3  1614904423   0.000001            0.888001           0.112001            \n",
       "4  1614904404   0.392001            0.135001           0.473001            "
      ]
     },
     "execution_count": 84,
     "metadata": {},
     "output_type": "execute_result"
    }
   ],
   "source": [
    "ts = pd.read_csv('data/numeric_sents.csv', low_memory=False)\n",
    "ts.head()"
   ]
  },
  {
   "cell_type": "code",
   "execution_count": 106,
   "metadata": {},
   "outputs": [],
   "source": [
    "def unix_to_date(input):\n",
    "    ts = int(input)\n",
    "    print(datetime.utcfromtimestamp(ts).strftime('%Y-%m-%d %H:%M:%S'))"
   ]
  },
  {
   "cell_type": "code",
   "execution_count": 108,
   "metadata": {},
   "outputs": [
    {
     "name": "stdout",
     "output_type": "stream",
     "text": [
      "2021-01-01 06:26:25\n"
     ]
    }
   ],
   "source": [
    "unix_to_date(1609482385)"
   ]
  },
  {
   "cell_type": "code",
   "execution_count": 109,
   "metadata": {},
   "outputs": [
    {
     "name": "stdout",
     "output_type": "stream",
     "text": [
      "2021-11-20 05:23:35\n"
     ]
    }
   ],
   "source": [
    "unix_to_date(1637385815)"
   ]
  },
  {
   "cell_type": "code",
   "execution_count": 125,
   "metadata": {
    "scrolled": true
   },
   "outputs": [],
   "source": [
    "date = []\n",
    "for i in ts['created_utc']:\n",
    "    x = int(i)\n",
    "    date.append(datetime.utcfromtimestamp(x).strftime('%Y-%m-%d %H:%M:%S'))\n",
    "ts['date']=date"
   ]
  },
  {
   "cell_type": "code",
   "execution_count": 132,
   "metadata": {
    "scrolled": false
   },
   "outputs": [],
   "source": [
    "ts['date'] = pd.to_datetime(ts['date'])\n",
    "ts.set_index('date',inplace=True)"
   ]
  },
  {
   "cell_type": "code",
   "execution_count": 136,
   "metadata": {},
   "outputs": [
    {
     "data": {
      "text/html": [
       "<div>\n",
       "<style scoped>\n",
       "    .dataframe tbody tr th:only-of-type {\n",
       "        vertical-align: middle;\n",
       "    }\n",
       "\n",
       "    .dataframe tbody tr th {\n",
       "        vertical-align: top;\n",
       "    }\n",
       "\n",
       "    .dataframe thead th {\n",
       "        text-align: right;\n",
       "    }\n",
       "</style>\n",
       "<table border=\"1\" class=\"dataframe\">\n",
       "  <thead>\n",
       "    <tr style=\"text-align: right;\">\n",
       "      <th></th>\n",
       "      <th>cleaned_body</th>\n",
       "      <th>created_utc</th>\n",
       "      <th>Positive Sentiment</th>\n",
       "      <th>Neutral Sentiment</th>\n",
       "      <th>Negative Sentiment</th>\n",
       "    </tr>\n",
       "    <tr>\n",
       "      <th>date</th>\n",
       "      <th></th>\n",
       "      <th></th>\n",
       "      <th></th>\n",
       "      <th></th>\n",
       "      <th></th>\n",
       "    </tr>\n",
       "  </thead>\n",
       "  <tbody>\n",
       "    <tr>\n",
       "      <th>2021-03-05 00:35:19</th>\n",
       "      <td>same i love movies and some movies really have to be seen in the theater to really appreciate them when this is all over im definitely hitting up amc to watch some flicks with a beer and tendies</td>\n",
       "      <td>1614904519</td>\n",
       "      <td>0.231001</td>\n",
       "      <td>0.769001</td>\n",
       "      <td>0.000001</td>\n",
       "    </tr>\n",
       "    <tr>\n",
       "      <th>2021-03-05 00:34:44</th>\n",
       "      <td>i have a question for anyone that has the answer to this are the hedgefunds that shorted gme the same hedgefunds that shorted amc why are these two so similar in price action</td>\n",
       "      <td>1614904484</td>\n",
       "      <td>0.000001</td>\n",
       "      <td>1.000001</td>\n",
       "      <td>0.000001</td>\n",
       "    </tr>\n",
       "    <tr>\n",
       "      <th>2021-03-05 00:34:07</th>\n",
       "      <td>hey guys on a scale of 110 how retarded am i i bought 7 puts on amc while it was tanking while 50 of everything ive earned is in it 9</td>\n",
       "      <td>1614904447</td>\n",
       "      <td>0.000001</td>\n",
       "      <td>0.871001</td>\n",
       "      <td>0.129001</td>\n",
       "    </tr>\n",
       "    <tr>\n",
       "      <th>2021-03-05 00:33:43</th>\n",
       "      <td>got 50 amc at 1330 and 52 gme at 111 don’t forget me on the way</td>\n",
       "      <td>1614904423</td>\n",
       "      <td>0.000001</td>\n",
       "      <td>0.888001</td>\n",
       "      <td>0.112001</td>\n",
       "    </tr>\n",
       "    <tr>\n",
       "      <th>2021-03-05 00:33:24</th>\n",
       "      <td>truly fuck amc</td>\n",
       "      <td>1614904404</td>\n",
       "      <td>0.392001</td>\n",
       "      <td>0.135001</td>\n",
       "      <td>0.473001</td>\n",
       "    </tr>\n",
       "    <tr>\n",
       "      <th>...</th>\n",
       "      <td>...</td>\n",
       "      <td>...</td>\n",
       "      <td>...</td>\n",
       "      <td>...</td>\n",
       "      <td>...</td>\n",
       "    </tr>\n",
       "    <tr>\n",
       "      <th>2021-06-14 22:37:54</th>\n",
       "      <td>funny how amc hasnt really dumped yet i remember when it was about 2 less than 6 months ago wheres the dump part of the pump and dump</td>\n",
       "      <td>1623710274</td>\n",
       "      <td>0.170001</td>\n",
       "      <td>0.665001</td>\n",
       "      <td>0.165001</td>\n",
       "    </tr>\n",
       "    <tr>\n",
       "      <th>2021-06-14 22:35:50</th>\n",
       "      <td>amc and gme only fuck off shill</td>\n",
       "      <td>1623710150</td>\n",
       "      <td>0.000001</td>\n",
       "      <td>0.632001</td>\n",
       "      <td>0.368001</td>\n",
       "    </tr>\n",
       "    <tr>\n",
       "      <th>2021-06-14 22:34:17</th>\n",
       "      <td>not to late to jump onboard the amc rocket get in while you can 🤩🦍</td>\n",
       "      <td>1623710057</td>\n",
       "      <td>0.000001</td>\n",
       "      <td>1.000001</td>\n",
       "      <td>0.000001</td>\n",
       "    </tr>\n",
       "    <tr>\n",
       "      <th>2021-06-14 22:33:56</th>\n",
       "      <td>clne taco amc wkhs uwmc</td>\n",
       "      <td>1623710036</td>\n",
       "      <td>0.000001</td>\n",
       "      <td>1.000001</td>\n",
       "      <td>0.000001</td>\n",
       "    </tr>\n",
       "    <tr>\n",
       "      <th>2021-06-14 22:33:22</th>\n",
       "      <td>the legal team specific advisors responsible for the report have also represented att eastman kodak dish blackstone bright house amc msg spirit northstar realty hellofresh tiffany co alibaba bayer merck scottrade eyntel all just in recent months they cant just publish something to agree with a paying client they have too much on the line for honest reporting this isnt investorplace its sullivan cromwell this isnt some reporter its a legal investigation</td>\n",
       "      <td>1623710002</td>\n",
       "      <td>0.199001</td>\n",
       "      <td>0.801001</td>\n",
       "      <td>0.000001</td>\n",
       "    </tr>\n",
       "  </tbody>\n",
       "</table>\n",
       "<p>100000 rows × 5 columns</p>\n",
       "</div>"
      ],
      "text/plain": [
       "                                                                                                                                                                                                                                                                                                                                                                                                                                                                                 cleaned_body  \\\n",
       "date                                                                                                                                                                                                                                                                                                                                                                                                                                                                                            \n",
       "2021-03-05 00:35:19  same i love movies and some movies really have to be seen in the theater to really appreciate them when this is all over im definitely hitting up amc to watch some flicks with a beer and tendies                                                                                                                                                                                                                                                                         \n",
       "2021-03-05 00:34:44  i have a question for anyone that has the answer to this are the hedgefunds that shorted gme the same hedgefunds that shorted amc why are these two so similar in price action                                                                                                                                                                                                                                                                                             \n",
       "2021-03-05 00:34:07  hey guys on a scale of 110 how retarded am i i bought 7 puts on amc while it was tanking while 50 of everything ive earned is in it 9                                                                                                                                                                                                                                                                                                                                      \n",
       "2021-03-05 00:33:43  got 50 amc at 1330 and 52 gme at 111 don’t forget me on the way                                                                                                                                                                                                                                                                                                                                                                                                            \n",
       "2021-03-05 00:33:24  truly fuck amc                                                                                                                                                                                                                                                                                                                                                                                                                                                             \n",
       "...                                                                              ...                                                                                                                                                                                                                                                                                                                                                                                                            \n",
       "2021-06-14 22:37:54  funny how amc hasnt really dumped yet i remember when it was about 2 less than 6 months ago wheres the dump part of the pump and dump                                                                                                                                                                                                                                                                                                                                      \n",
       "2021-06-14 22:35:50  amc and gme only fuck off shill                                                                                                                                                                                                                                                                                                                                                                                                                                            \n",
       "2021-06-14 22:34:17  not to late to jump onboard the amc rocket get in while you can 🤩🦍                                                                                                                                                                                                                                                                                                                                                                                                         \n",
       "2021-06-14 22:33:56  clne taco amc wkhs uwmc                                                                                                                                                                                                                                                                                                                                                                                                                                                    \n",
       "2021-06-14 22:33:22  the legal team specific advisors responsible for the report have also represented att eastman kodak dish blackstone bright house amc msg spirit northstar realty hellofresh tiffany co alibaba bayer merck scottrade eyntel all just in recent months they cant just publish something to agree with a paying client they have too much on the line for honest reporting this isnt investorplace its sullivan cromwell this isnt some reporter its a legal investigation   \n",
       "\n",
       "                     created_utc  Positive Sentiment  Neutral Sentiment  \\\n",
       "date                                                                      \n",
       "2021-03-05 00:35:19  1614904519   0.231001            0.769001            \n",
       "2021-03-05 00:34:44  1614904484   0.000001            1.000001            \n",
       "2021-03-05 00:34:07  1614904447   0.000001            0.871001            \n",
       "2021-03-05 00:33:43  1614904423   0.000001            0.888001            \n",
       "2021-03-05 00:33:24  1614904404   0.392001            0.135001            \n",
       "...                         ...        ...                 ...            \n",
       "2021-06-14 22:37:54  1623710274   0.170001            0.665001            \n",
       "2021-06-14 22:35:50  1623710150   0.000001            0.632001            \n",
       "2021-06-14 22:34:17  1623710057   0.000001            1.000001            \n",
       "2021-06-14 22:33:56  1623710036   0.000001            1.000001            \n",
       "2021-06-14 22:33:22  1623710002   0.199001            0.801001            \n",
       "\n",
       "                     Negative Sentiment  \n",
       "date                                     \n",
       "2021-03-05 00:35:19  0.000001            \n",
       "2021-03-05 00:34:44  0.000001            \n",
       "2021-03-05 00:34:07  0.129001            \n",
       "2021-03-05 00:33:43  0.112001            \n",
       "2021-03-05 00:33:24  0.473001            \n",
       "...                       ...            \n",
       "2021-06-14 22:37:54  0.165001            \n",
       "2021-06-14 22:35:50  0.368001            \n",
       "2021-06-14 22:34:17  0.000001            \n",
       "2021-06-14 22:33:56  0.000001            \n",
       "2021-06-14 22:33:22  0.000001            \n",
       "\n",
       "[100000 rows x 5 columns]"
      ]
     },
     "execution_count": 136,
     "metadata": {},
     "output_type": "execute_result"
    }
   ],
   "source": [
    "ts"
   ]
  },
  {
   "cell_type": "code",
   "execution_count": 140,
   "metadata": {
    "scrolled": true
   },
   "outputs": [],
   "source": [
    "ts.drop(['cleaned_body','created_utc','Neutral Sentiment','Negative Sentiment'],axis=1,inplace=True)"
   ]
  },
  {
   "cell_type": "code",
   "execution_count": 142,
   "metadata": {},
   "outputs": [
    {
     "data": {
      "text/html": [
       "<div>\n",
       "<style scoped>\n",
       "    .dataframe tbody tr th:only-of-type {\n",
       "        vertical-align: middle;\n",
       "    }\n",
       "\n",
       "    .dataframe tbody tr th {\n",
       "        vertical-align: top;\n",
       "    }\n",
       "\n",
       "    .dataframe thead th {\n",
       "        text-align: right;\n",
       "    }\n",
       "</style>\n",
       "<table border=\"1\" class=\"dataframe\">\n",
       "  <thead>\n",
       "    <tr style=\"text-align: right;\">\n",
       "      <th></th>\n",
       "      <th>Positive Sentiment</th>\n",
       "    </tr>\n",
       "    <tr>\n",
       "      <th>date</th>\n",
       "      <th></th>\n",
       "    </tr>\n",
       "  </thead>\n",
       "  <tbody>\n",
       "    <tr>\n",
       "      <th>2021-03-05 00:35:19</th>\n",
       "      <td>0.231001</td>\n",
       "    </tr>\n",
       "    <tr>\n",
       "      <th>2021-03-05 00:34:44</th>\n",
       "      <td>0.000001</td>\n",
       "    </tr>\n",
       "    <tr>\n",
       "      <th>2021-03-05 00:34:07</th>\n",
       "      <td>0.000001</td>\n",
       "    </tr>\n",
       "    <tr>\n",
       "      <th>2021-03-05 00:33:43</th>\n",
       "      <td>0.000001</td>\n",
       "    </tr>\n",
       "    <tr>\n",
       "      <th>2021-03-05 00:33:24</th>\n",
       "      <td>0.392001</td>\n",
       "    </tr>\n",
       "  </tbody>\n",
       "</table>\n",
       "</div>"
      ],
      "text/plain": [
       "                     Positive Sentiment\n",
       "date                                   \n",
       "2021-03-05 00:35:19  0.231001          \n",
       "2021-03-05 00:34:44  0.000001          \n",
       "2021-03-05 00:34:07  0.000001          \n",
       "2021-03-05 00:33:43  0.000001          \n",
       "2021-03-05 00:33:24  0.392001          "
      ]
     },
     "execution_count": 142,
     "metadata": {},
     "output_type": "execute_result"
    }
   ],
   "source": [
    "ts.head()"
   ]
  },
  {
   "cell_type": "code",
   "execution_count": 143,
   "metadata": {},
   "outputs": [
    {
     "data": {
      "image/png": "[encoded data removed]",
      "text/plain": [
       "<Figure size 1152x432 with 1 Axes>"
      ]
     },
     "metadata": {
      "needs_background": "light"
     },
     "output_type": "display_data"
    }
   ],
   "source": [
    "plt.figure(figsize=(16,6))\n",
    "ts['Positive Sentiment'].plot()\n",
    "plt.title('Positive Sentiment')\n",
    "plt.show()"
   ]
  },
  {
   "cell_type": "code",
   "execution_count": 144,
   "metadata": {},
   "outputs": [],
   "source": [
    "ts_daily = ts.resample('D').mean()"
   ]
  },
  {
   "cell_type": "code",
   "execution_count": 145,
   "metadata": {
    "scrolled": true
   },
   "outputs": [
    {
     "data": {
      "text/html": [
       "<div>\n",
       "<style scoped>\n",
       "    .dataframe tbody tr th:only-of-type {\n",
       "        vertical-align: middle;\n",
       "    }\n",
       "\n",
       "    .dataframe tbody tr th {\n",
       "        vertical-align: top;\n",
       "    }\n",
       "\n",
       "    .dataframe thead th {\n",
       "        text-align: right;\n",
       "    }\n",
       "</style>\n",
       "<table border=\"1\" class=\"dataframe\">\n",
       "  <thead>\n",
       "    <tr style=\"text-align: right;\">\n",
       "      <th></th>\n",
       "      <th>Positive Sentiment</th>\n",
       "    </tr>\n",
       "    <tr>\n",
       "      <th>date</th>\n",
       "      <th></th>\n",
       "    </tr>\n",
       "  </thead>\n",
       "  <tbody>\n",
       "    <tr>\n",
       "      <th>2021-01-01</th>\n",
       "      <td>0.165287</td>\n",
       "    </tr>\n",
       "    <tr>\n",
       "      <th>2021-01-02</th>\n",
       "      <td>0.178001</td>\n",
       "    </tr>\n",
       "    <tr>\n",
       "      <th>2021-01-03</th>\n",
       "      <td>0.000001</td>\n",
       "    </tr>\n",
       "    <tr>\n",
       "      <th>2021-01-04</th>\n",
       "      <td>0.149126</td>\n",
       "    </tr>\n",
       "    <tr>\n",
       "      <th>2021-01-05</th>\n",
       "      <td>0.073001</td>\n",
       "    </tr>\n",
       "  </tbody>\n",
       "</table>\n",
       "</div>"
      ],
      "text/plain": [
       "            Positive Sentiment\n",
       "date                          \n",
       "2021-01-01  0.165287          \n",
       "2021-01-02  0.178001          \n",
       "2021-01-03  0.000001          \n",
       "2021-01-04  0.149126          \n",
       "2021-01-05  0.073001          "
      ]
     },
     "execution_count": 145,
     "metadata": {},
     "output_type": "execute_result"
    }
   ],
   "source": [
    "ts_daily.head()"
   ]
  },
  {
   "cell_type": "code",
   "execution_count": 146,
   "metadata": {},
   "outputs": [
    {
     "data": {
      "text/plain": [
       "Positive Sentiment    21\n",
       "dtype: int64"
      ]
     },
     "execution_count": 146,
     "metadata": {},
     "output_type": "execute_result"
    }
   ],
   "source": [
    "ts_daily.isna().sum()"
   ]
  },
  {
   "cell_type": "code",
   "execution_count": 156,
   "metadata": {},
   "outputs": [
    {
     "data": {
      "image/png": "[encoded data removed]",
      "text/plain": [
       "<Figure size 1152x432 with 1 Axes>"
      ]
     },
     "metadata": {
      "needs_background": "light"
     },
     "output_type": "display_data"
    }
   ],
   "source": [
    "plt.figure(figsize=(16,6))\n",
    "ts_daily['Positive Sentiment'].plot()\n",
    "plt.title('Positive Sentiment')\n",
    "plt.show()"
   ]
  },
  {
   "cell_type": "code",
   "execution_count": 149,
   "metadata": {},
   "outputs": [],
   "source": [
    "ts_q = ts.resample('M').mean()"
   ]
  },
  {
   "cell_type": "code",
   "execution_count": 150,
   "metadata": {},
   "outputs": [
    {
     "data": {
      "text/html": [
       "<div>\n",
       "<style scoped>\n",
       "    .dataframe tbody tr th:only-of-type {\n",
       "        vertical-align: middle;\n",
       "    }\n",
       "\n",
       "    .dataframe tbody tr th {\n",
       "        vertical-align: top;\n",
       "    }\n",
       "\n",
       "    .dataframe thead th {\n",
       "        text-align: right;\n",
       "    }\n",
       "</style>\n",
       "<table border=\"1\" class=\"dataframe\">\n",
       "  <thead>\n",
       "    <tr style=\"text-align: right;\">\n",
       "      <th></th>\n",
       "      <th>Positive Sentiment</th>\n",
       "    </tr>\n",
       "    <tr>\n",
       "      <th>date</th>\n",
       "      <th></th>\n",
       "    </tr>\n",
       "  </thead>\n",
       "  <tbody>\n",
       "    <tr>\n",
       "      <th>2021-01-31</th>\n",
       "      <td>0.092434</td>\n",
       "    </tr>\n",
       "    <tr>\n",
       "      <th>2021-02-28</th>\n",
       "      <td>0.097667</td>\n",
       "    </tr>\n",
       "    <tr>\n",
       "      <th>2021-03-31</th>\n",
       "      <td>0.103852</td>\n",
       "    </tr>\n",
       "    <tr>\n",
       "      <th>2021-04-30</th>\n",
       "      <td>0.111219</td>\n",
       "    </tr>\n",
       "    <tr>\n",
       "      <th>2021-05-31</th>\n",
       "      <td>0.095332</td>\n",
       "    </tr>\n",
       "    <tr>\n",
       "      <th>2021-06-30</th>\n",
       "      <td>0.105560</td>\n",
       "    </tr>\n",
       "    <tr>\n",
       "      <th>2021-07-31</th>\n",
       "      <td>0.104050</td>\n",
       "    </tr>\n",
       "    <tr>\n",
       "      <th>2021-08-31</th>\n",
       "      <td>0.102063</td>\n",
       "    </tr>\n",
       "    <tr>\n",
       "      <th>2021-09-30</th>\n",
       "      <td>0.104362</td>\n",
       "    </tr>\n",
       "    <tr>\n",
       "      <th>2021-10-31</th>\n",
       "      <td>0.103417</td>\n",
       "    </tr>\n",
       "    <tr>\n",
       "      <th>2021-11-30</th>\n",
       "      <td>0.100010</td>\n",
       "    </tr>\n",
       "  </tbody>\n",
       "</table>\n",
       "</div>"
      ],
      "text/plain": [
       "            Positive Sentiment\n",
       "date                          \n",
       "2021-01-31  0.092434          \n",
       "2021-02-28  0.097667          \n",
       "2021-03-31  0.103852          \n",
       "2021-04-30  0.111219          \n",
       "2021-05-31  0.095332          \n",
       "2021-06-30  0.105560          \n",
       "2021-07-31  0.104050          \n",
       "2021-08-31  0.102063          \n",
       "2021-09-30  0.104362          \n",
       "2021-10-31  0.103417          \n",
       "2021-11-30  0.100010          "
      ]
     },
     "execution_count": 150,
     "metadata": {},
     "output_type": "execute_result"
    }
   ],
   "source": [
    "ts_q"
   ]
  },
  {
   "cell_type": "code",
   "execution_count": 155,
   "metadata": {},
   "outputs": [
    {
     "data": {
      "image/png": "[encoded data removed]",
      "text/plain": [
       "<Figure size 1152x432 with 1 Axes>"
      ]
     },
     "metadata": {
      "needs_background": "light"
     },
     "output_type": "display_data"
    }
   ],
   "source": [
    "plt.figure(figsize=(16,6))\n",
    "ts_q['Positive Sentiment'].plot()\n",
    "plt.title('Positive Sentiment')\n",
    "plt.show()"
   ]
  },
  {
   "cell_type": "code",
   "execution_count": null,
   "metadata": {},
   "outputs": [],
   "source": []
  }
 ],
 "metadata": {
  "kernelspec": {
   "display_name": "Python (learn-env)",
   "language": "python",
   "name": "learn-env"
  },
  "language_info": {
   "codemirror_mode": {
    "name": "ipython",
    "version": 3
   },
   "file_extension": ".py",
   "mimetype": "text/x-python",
   "name": "python",
   "nbconvert_exporter": "python",
   "pygments_lexer": "ipython3",
   "version": "3.8.5"
  }
 },
 "nbformat": 4,
 "nbformat_minor": 4
}
